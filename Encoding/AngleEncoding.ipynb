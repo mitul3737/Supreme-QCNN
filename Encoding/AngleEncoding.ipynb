{
 "cells": [
  {
   "cell_type": "markdown",
   "id": "a76e6049",
   "metadata": {},
   "source": [
    "# Angle Encoding\n",
    "\n",
    "\n",
    "Angle Encoding is a fundamental technique in quantum machine learning where classical data values are encoded as rotation angles in quantum gates. Here's a detailed breakdown of what's happening:\n",
    "\n",
    "### Input\n",
    "\n",
    "\n",
    "data = np.array([0.1, 0.2, 0.3])\n",
    "\n",
    "A 3-dimensional classical vector where:\n",
    "\n",
    "x[0] = 0.1 → Rotation angle for RY on qubit 0.\n",
    "\n",
    "x[1] = 0.2 → Rotation angle for RZ on qubit 1.\n",
    "\n",
    "x[2] = 0.3 → Rotation angle for RX on qubit 2.\n",
    "\n",
    "\n",
    "\n",
    "Quantum Circuit Operations\n",
    "\n",
    "qml.RY(x[0], wires=0)\n",
    "\n",
    "Applies a Y-axis rotation (RY gate) on qubit 0 by angle 0.1 radians.\n",
    "\n",
    "Transforms qubit 0 from |0⟩ to cos(0.05)|0⟩ + sin(0.05)|1⟩.\n",
    "\n",
    "qml.RZ(x[1], wires=1)\n",
    "\n",
    "Applies a Z-axis rotation (RZ gate) on qubit 1 by angle 0.2 radians.\n",
    "\n",
    "Adds a phase to qubit 1: |0⟩ stays |0⟩, |1⟩ becomes e^{i0.1}|1⟩.\n",
    "\n",
    "qml.RX(x[2], wires=2)\n",
    "\n",
    "Applies an X-axis rotation (RX gate) on qubit 2 by angle 0.3 radians.\n",
    "\n",
    "Transforms qubit 2 from |0⟩ to cos(0.15)|0⟩ - i sin(0.15)|1⟩.\n",
    "\n",
    "\n",
    "Measurement\n",
    "return qml.state() returns the full 3-qubit quantum statevector (8 complex numbers, since 2^3 =8)."
   ]
  },
  {
   "cell_type": "code",
   "execution_count": 2,
   "id": "2bc315d6",
   "metadata": {},
   "outputs": [
    {
     "name": "stdout",
     "output_type": "stream",
     "text": [
      "[ 9.82601808e-01-0.09858903j -1.49002746e-02-0.14850574j\n",
      "  0.00000000e+00+0.j          0.00000000e+00+0.j\n",
      "  4.91710731e-02-0.00493356j -7.45635195e-04-0.00743148j\n",
      "  0.00000000e+00+0.j          0.00000000e+00+0.j        ]\n"
     ]
    }
   ],
   "source": [
    "import pennylane as qml\n",
    "import numpy as np\n",
    "\n",
    "dev = qml.device(\"default.qubit\", wires=3)\n",
    "\n",
    "@qml.qnode(dev)\n",
    "def angle_encoding(x):\n",
    "    # Encode 3 features into rotations\n",
    "    qml.RY(x[0], wires=0)\n",
    "    qml.RZ(x[1], wires=1)\n",
    "    qml.RX(x[2], wires=2)\n",
    "    return qml.state()\n",
    "\n",
    "# Example usage\n",
    "data = np.array([0.1, 0.2, 0.3])\n",
    "print(angle_encoding(data))"
   ]
  },
  {
   "cell_type": "markdown",
   "id": "0e8a3e58",
   "metadata": {},
   "source": [
    "# Output explanation\n",
    "\n",
    "This is a list of 8 complex numbers representing the amplitudes for all possible 3-qubit states (|000⟩ through |111⟩):\n",
    "\n",
    "\n",
    "[ 9.82601808e-01-0.09858903j -1.49002746e-02-0.14850574j\n",
    "  0.00000000e+00+0.j          0.00000000e+00+0.j\n",
    "  4.91710731e-02-0.00493356j -7.45635195e-04-0.00743148j\n",
    "  0.00000000e+00+0.j          0.00000000e+00+0.j        ]\n",
    "\n",
    "\n",
    "## Dominant State (|000⟩):\n",
    "\n",
    "Amplitude: 0.9826 - 0.0986j\n",
    "\n",
    "Probability: |0.9826 - 0.0986j|² ≈ 96.8%\n",
    "\n",
    "This means there's a 96.8% chance of measuring all qubits in the |0⟩ state\n",
    "\n",
    "## Secondary States:\n",
    "\n",
    "|001⟩: ~2.2% probability\n",
    "\n",
    "|100⟩: ~0.24% probability\n",
    "\n",
    "|101⟩: ~0.005% probability (very small)\n",
    "\n",
    "## Zero-Probability States:\n",
    "\n",
    "|010⟩, |011⟩, |110⟩, |111⟩ have exactly 0 amplitude\n",
    "\n",
    "These states will never be measured"
   ]
  }
 ],
 "metadata": {
  "kernelspec": {
   "display_name": "audio_qcnn",
   "language": "python",
   "name": "python3"
  },
  "language_info": {
   "codemirror_mode": {
    "name": "ipython",
    "version": 3
   },
   "file_extension": ".py",
   "mimetype": "text/x-python",
   "name": "python",
   "nbconvert_exporter": "python",
   "pygments_lexer": "ipython3",
   "version": "3.11.11"
  }
 },
 "nbformat": 4,
 "nbformat_minor": 5
}
