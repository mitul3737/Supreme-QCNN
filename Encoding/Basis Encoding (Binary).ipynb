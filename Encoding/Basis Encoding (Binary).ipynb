{
 "cells": [
  {
   "cell_type": "markdown",
   "id": "0b4b8c47",
   "metadata": {},
   "source": [
    "## Basic Encoding\n",
    "\n",
    "Basis encoding is a simple yet powerful method for encoding classical binary data into a quantum state by mapping each classical bit to the state of a qubit. Unlike amplitude encoding (which stores data in superposition), basis encoding represents data directly in the computational basis states (e.g., \n",
    "∣0⟩ and ∣1⟩).\n",
    "\n",
    "- Goal: Represent a classical bitstring as a quantum state where each qubit corresponds to one classical bit.\n",
    "\n",
    "- Key Idea:\n",
    "\n",
    "0 → ∣0⟩ (ground state)\n",
    "\n",
    "1 → ∣1⟩ (excited state, applied via Pauli-X gate)\n",
    "\n",
    "### Advantages:\n",
    "\n",
    "- Simple and deterministic (no superposition).\n",
    "\n",
    "- Useful for Boolean functions, classical-to-quantum data conversion, and combinatorial optimization.\n",
    "\n",
    "\n",
    "### Input\n",
    "\n",
    "A classical bitstring (list of 0s and 1s).\n",
    "\n",
    "Length of bitstring = Number of qubits.\n",
    "\n",
    "Example: [1, 0, 1, 0] (4-bit input → 4 qubits).\n",
    "\n",
    "4 qubit creates 2^4 possibilities.\n",
    "\n",
    "\n",
    "\n",
    "\n",
    "\n",
    "\n",
    "### Output\n",
    "A quantum state in the computational basis.\n",
    "\n",
    "For [1, 0, 1, 0], the output state is ∣1010⟩\n",
    "\n",
    "\n",
    "The output will look like [0. 0. 0. 0. 0. 0. 0. 0. 0. 0. 1. 0. 0. 0. 0. 0.]\n",
    "\n",
    "The 1.0 appears at position 10 (binary 1010 = decimal 10), meaning the state ∣1010⟩ has 100% probability\n",
    "\n",
    "\n",
    "### How Does It Work? (Step-by-Step)\n",
    "Step 1: Initialize Qubits\n",
    "All qubits start in ∣0⟩.\n",
    "\n",
    "For 4 qubits, the initialization then look like ∣0>|0>|0>|0⟩ = ∣0000⟩.\n",
    "\n",
    "Step 2: Apply Pauli-X Gates for '1' Bits\n",
    "The Pauli-X gate flips ∣0⟩ to ∣1⟩.\n",
    "\n",
    "For [1, 0, 1, 0]:\n",
    "\n",
    "Flip qubit 0 (X on wire 0) → ∣1000⟩\n",
    "\n",
    "Flip qubit 2 (X on wire 2) → ∣1010⟩\n",
    "\n",
    "\n",
    "Step 3: Measurement (Optional)\n",
    "If measured, the output probabilities will be:\n",
    "P(∣1010⟩)=1.0 (100%)\n",
    "\n",
    "P(any other state)=0.0"
   ]
  },
  {
   "cell_type": "code",
   "execution_count": 2,
   "id": "21a06c10",
   "metadata": {},
   "outputs": [
    {
     "name": "stdout",
     "output_type": "stream",
     "text": [
      "[0. 0. 0. 0. 0. 0. 0. 0. 0. 0. 1. 0. 0. 0. 0. 0.]\n"
     ]
    }
   ],
   "source": [
    "import pennylane as qml\n",
    "import numpy as np\n",
    "from pennylane import numpy as np\n",
    "dev = qml.device(\"default.qubit\", wires=4)\n",
    "\n",
    "@qml.qnode(dev)\n",
    "def basis_encoding(bitstring):\n",
    "    for i, bit in enumerate(bitstring):\n",
    "        if bit == 1:\n",
    "            qml.PauliX(wires=i)\n",
    "    return qml.probs(wires=range(4))\n",
    "\n",
    "# Encode '1010'\n",
    "print(basis_encoding([1,0,1,0]))"
   ]
  }
 ],
 "metadata": {
  "kernelspec": {
   "display_name": "audio_qcnn",
   "language": "python",
   "name": "python3"
  },
  "language_info": {
   "codemirror_mode": {
    "name": "ipython",
    "version": 3
   },
   "file_extension": ".py",
   "mimetype": "text/x-python",
   "name": "python",
   "nbconvert_exporter": "python",
   "pygments_lexer": "ipython3",
   "version": "3.11.11"
  }
 },
 "nbformat": 4,
 "nbformat_minor": 5
}
