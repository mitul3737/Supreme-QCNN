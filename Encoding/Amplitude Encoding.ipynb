{
 "cells": [
  {
   "cell_type": "markdown",
   "id": "f6cd6f1d",
   "metadata": {},
   "source": [
    "# Amplitude Encoding\n",
    "\n",
    "Amplitude encoding is a technique in quantum computing where classical data (a vector) is encoded into the probability amplitudes of a quantum state. This allows classical data to be represented efficiently in a quantum system, enabling quantum algorithms to process it.\n",
    "\n",
    "Goal: Store a classical vector in the amplitudes of a quantum state.\n",
    "\n",
    "Key Idea: A normalized classical vector becomes the coefficients (amplitudes) of a quantum superposition.\n",
    "\n",
    "Efficiency: An n-qubit system can represent a 2ⁿ-dimensional vector, offering exponential compression.\n",
    "\n",
    "\n",
    "\n",
    "A classical vector, x=[x0,x1,.........,xN-1] where N=2^n (for n qubits)\n",
    "Example, for 2 qubits, the input will have a length of 2^2=4 . \n",
    "\n",
    "For example, if we have 2 qubits, we do have state [|00> , |01>, |10>, |11>]  and if we want to present only |00> and |11> using this [1,0,0,1]\n",
    "\n",
    "Then the vector must be normalized and we will get it's amplitude form.\n",
    "\n",
    "Input: [1, 0, 0, 1]\n",
    "\n",
    "Norm: root(1^2+0^2+0^2+1^2)=root(2)\n",
    "\n",
    "​Normalized: [1/√2, 0, 0, 1/√2]\n",
    "\n",
    "\n",
    "If measured, the probabilities of observing each basis state are:\n",
    "P(∣00⟩)=(1/2)^2 =0.5\n",
    "P(∣01⟩)=(0)^2 =0\n",
    "P(∣10⟩)=(0)^2 =0\n",
    "P(∣11⟩)=(1/2)^2 =0.5\n",
    "\n",
    "\n",
    "So, the output should look like [0.5, 0.0, 0.0, 0.5]\n"
   ]
  },
  {
   "cell_type": "code",
   "execution_count": 3,
   "id": "5a2e8fc2",
   "metadata": {},
   "outputs": [
    {
     "name": "stdout",
     "output_type": "stream",
     "text": [
      "[0.5 0.  0.  0.5]\n"
     ]
    }
   ],
   "source": [
    "from pennylane import numpy as np\n",
    "import pennylane as qml\n",
    "import numpy as np\n",
    "dev = qml.device(\"default.qubit\", wires=2)\n",
    "\n",
    "@qml.qnode(dev)\n",
    "def amplitude_encoding(x):\n",
    "    # Normalize and encode\n",
    "    norm = np.linalg.norm(x)\n",
    "    normalized = x / norm\n",
    "    qml.QubitStateVector(normalized, wires=[0,1])\n",
    "    return qml.probs(wires=[0,1])\n",
    "\n",
    "# Example (length must be 2^num_qubits)\n",
    "data = np.array([1, 0, 0, 1])  # For 2 qubits\n",
    "print(amplitude_encoding(data))"
   ]
  }
 ],
 "metadata": {
  "kernelspec": {
   "display_name": "audio_qcnn",
   "language": "python",
   "name": "python3"
  },
  "language_info": {
   "codemirror_mode": {
    "name": "ipython",
    "version": 3
   },
   "file_extension": ".py",
   "mimetype": "text/x-python",
   "name": "python",
   "nbconvert_exporter": "python",
   "pygments_lexer": "ipython3",
   "version": "3.11.11"
  }
 },
 "nbformat": 4,
 "nbformat_minor": 5
}
