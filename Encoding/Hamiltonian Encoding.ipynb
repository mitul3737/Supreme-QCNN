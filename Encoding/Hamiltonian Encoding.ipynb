{
 "cells": [
  {
   "cell_type": "markdown",
   "id": "d3d26699",
   "metadata": {},
   "source": [
    "# Hamiltonian Encoding\n",
    "\n",
    "Hamiltonian encoding is  a technique where classical data is embedded into a quantum system by using it to define the terms of a Hamiltonian (a quantum operator representing energy). The system then evolves under this Hamiltonian, and the resulting quantum state encodes the input data.\n",
    "\n",
    "\n",
    "### Input\n",
    "\n",
    "data = np.array([0.5, 0.3, 0.2])\n",
    "\n",
    "A 3-dimensional classical vector where:\n",
    "\n",
    "x[0] = 0.5 → Coefficient for PauliX(0)\n",
    "\n",
    "x[1] = 0.3 → Coefficient for PauliZ(1)\n",
    "\n",
    "x[2] = 0.2 → Coefficient for PauliX(0) @ PauliX(1) (entangling term)\n",
    "\n",
    "\n",
    "The Hamiltonian is built as:\n",
    "\n",
    "H=0.5⋅X_0 +0.3⋅Z_1+0.2⋅X_0⊗X_1\n",
    "​\n",
    " \n",
    "X_0 (PauliX(0)) → Flips qubit 0 (|0⟩ ↔ |1⟩).\n",
    "\n",
    "Z_1 (PauliZ(1)) → Adds a phase to qubit 1 (|1⟩ → -|1⟩).\n",
    "\n",
    "X_0 ⊗ X_1 (PauliX(0) @ PauliX(1)) → Entangles qubits 0 and 1.\n",
    "\n",
    "\n",
    "\n",
    "The system evolves under H for time=1.0 using n=1 Trotter step (approximation).\n",
    "\n",
    "This applies the unitary operation:\n",
    "\n",
    "U=e^−iHt ≈e ^ −i⋅0.5X_0⋅e −i⋅0.3Z_1⋅e^−i⋅0.2X_0⊗X_1\n",
    "​\n",
    "\n",
    "Measures the expectation value of Z_0 (qubit 0).\n",
    "\n",
    "Possible outcomes:\n",
    "\n",
    "+1 if qubit 0 is in |0⟩.\n",
    "\n",
    "-1 if qubit 0 is in |1⟩.\n",
    "\n",
    "Values in between indicate superposition\n",
    "\n",
    "\n",
    "\n"
   ]
  },
  {
   "cell_type": "code",
   "execution_count": 3,
   "id": "4fa43b9d",
   "metadata": {},
   "outputs": [
    {
     "name": "stdout",
     "output_type": "stream",
     "text": [
      "0.49765137890495886\n"
     ]
    }
   ],
   "source": [
    "import pennylane as qml\n",
    "import numpy as np\n",
    "from pennylane import numpy as np\n",
    "dev = qml.device(\"default.qubit\", wires=2)\n",
    "\n",
    "@qml.qnode(dev)\n",
    "def hamiltonian_encoding(x):\n",
    "    # Create Hamiltonian with data as coefficients\n",
    "    H = x[0]*qml.PauliX(0) + x[1]*qml.PauliZ(1) + x[2]*qml.PauliX(0)@qml.PauliX(1)\n",
    "    qml.ApproxTimeEvolution(H, time=1.0, n=1)\n",
    "    return qml.expval(qml.PauliZ(0))\n",
    "\n",
    "data = np.array([0.5, 0.3, 0.2])\n",
    "print(hamiltonian_encoding(data))"
   ]
  },
  {
   "cell_type": "markdown",
   "id": "3de9d143",
   "metadata": {},
   "source": [
    "# Why this output\n",
    "\n",
    "\n",
    "The value is close to 0.5, meaning:\n",
    "\n",
    "Qubit 0 is slightly biased toward |0⟩ but almost evenly mixed with |1⟩.\n",
    "\n",
    "The small deviation from 0.5 comes from:\n",
    "\n",
    "The X_0 term (flips qubit 0, reducing ⟨Z⟩).\n",
    "\n",
    "The Z_1 term (adds phase, indirectly affecting qubit 0 via entanglement).\n",
    "\n",
    "The X_0 ⊗ X_1 term (entangles qubits, further perturbing the state).\n",
    "\n",
    "\n",
    "\n",
    "\n",
    "For small time=1.0 and weak couplings (x=[0.5, 0.3, 0.2]), the expectation value can be approximated as:\n",
    "\n",
    "Z _0≈cos(0.5)⋅(contributions from other terms)\n",
    "\n",
    "Since cos(0.5) ≈ 0.8776, but entanglement reduces this further, we get ~0.4976\n",
    "\n",
    "\n",
    "\n",
    "## When Would You Use Hamiltonian Encoding?\n",
    "\n",
    "This method is useful for:\n",
    "\n",
    "- Quantum Machine Learning\n",
    "\n",
    "Encode data into Hamiltonians for quantum models.\n",
    "\n",
    "- Quantum Simulation\n",
    "\n",
    "Simulate physical systems where data represents interaction strengths.\n",
    "\n",
    "- Optimization Problems\n",
    "\n",
    "Encode problem constraints into Hamiltonians (e.g., QAOA)."
   ]
  },
  {
   "cell_type": "markdown",
   "id": "e8048f1f",
   "metadata": {},
   "source": []
  }
 ],
 "metadata": {
  "kernelspec": {
   "display_name": "audio_qcnn",
   "language": "python",
   "name": "python3"
  },
  "language_info": {
   "codemirror_mode": {
    "name": "ipython",
    "version": 3
   },
   "file_extension": ".py",
   "mimetype": "text/x-python",
   "name": "python",
   "nbconvert_exporter": "python",
   "pygments_lexer": "ipython3",
   "version": "3.11.11"
  }
 },
 "nbformat": 4,
 "nbformat_minor": 5
}
