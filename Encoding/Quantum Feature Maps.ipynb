{
 "cells": [
  {
   "cell_type": "markdown",
   "id": "a9de41bf",
   "metadata": {},
   "source": [
    "### Quantum Feature Maps\n",
    "\n",
    "Quantum feature mapsis used to encode classical data into a quantum state, creating a higher-dimensional (possibly entangled) representation that can be used for quantum machine learning tasks.\n",
    "\n",
    "A quantum feature map is a way to non-linearly transform classical data into a quantum state using:\n",
    "\n",
    "- Encodes classical data into qubit rotations (AngleEmbedding)\n",
    "\n",
    "- Applies entangling gates (StronglyEntanglingLayers)\n",
    "\n",
    "- Measures the probabilities of all possible 2-qubit states\n",
    "\n",
    "\n",
    "### Input Data\n",
    "data = np.random.rand(2) generates 2 random numbers between 0 and 1 (e.g., [0.42, 0.86])\n",
    "\n",
    "here the code,\n",
    "\n",
    "Applies Y-rotations (RY gates) to each qubit\n",
    "\n",
    "Rotation angles are proportional to input values:\n",
    "\n",
    "Qubit 0: RY(0.42)\n",
    "\n",
    "Qubit 1: RY(0.86)\n",
    "\n",
    "After this step, the state is not entangled (product state)\n",
    "\n",
    "then,\n",
    "\n",
    "Applies 1 layer of entangling operations with random weights\n",
    "\n",
    "Each layer contains:\n",
    "\n",
    "Rotations on each qubit (controlled by weights)\n",
    "\n",
    "Entangling CNOT gates between qubits\n",
    "\n",
    "This creates quantum entanglement between the qubits\n",
    "\n",
    "\n",
    "\n",
    "Finally, \n",
    "\n",
    "Measures probabilities of all 4 possible 2-qubit states:\n",
    "\n",
    "|00⟩, |01⟩, |10⟩, |11⟩\n",
    "\n",
    "\n",
    "So, \n",
    "\n",
    "The output corresponds to the probabilities of measuring each possible 2-qubit state:\n",
    "\n",
    "0.85819772 → Probability of measuring |00⟩ (85.8%)\n",
    "\n",
    "0.08897164 → Probability of measuring |01⟩ (8.9%)\n",
    "\n",
    "0.00496261 → Probability of measuring |10⟩ (0.5%)\n",
    "\n",
    "0.04786803 → Probability of measuring |11⟩ (4.8%)"
   ]
  },
  {
   "cell_type": "code",
   "execution_count": 8,
   "id": "71f4a8a8",
   "metadata": {},
   "outputs": [
    {
     "name": "stdout",
     "output_type": "stream",
     "text": [
      "[0.27826336 0.39609492 0.19127078 0.13437095]\n"
     ]
    }
   ],
   "source": [
    "import pennylane as qml\n",
    "import numpy as np\n",
    "from pennylane import numpy as np\n",
    "\n",
    "dev = qml.device(\"default.qubit\", wires=2)\n",
    "\n",
    "@qml.qnode(dev)\n",
    "def feature_map(x):\n",
    "    # PennyLane's built-in feature map\n",
    "    qml.AngleEmbedding(x, wires=range(2), rotation='Y')\n",
    "    qml.StronglyEntanglingLayers(weights=np.random.rand(1,2,3), wires=range(2))\n",
    "    return qml.probs(wires=[0,1])\n",
    "\n",
    "data = np.random.rand(2)  # 2 features\n",
    "print(feature_map(data))"
   ]
  }
 ],
 "metadata": {
  "kernelspec": {
   "display_name": "audio_qcnn",
   "language": "python",
   "name": "python3"
  },
  "language_info": {
   "codemirror_mode": {
    "name": "ipython",
    "version": 3
   },
   "file_extension": ".py",
   "mimetype": "text/x-python",
   "name": "python",
   "nbconvert_exporter": "python",
   "pygments_lexer": "ipython3",
   "version": "3.11.11"
  }
 },
 "nbformat": 4,
 "nbformat_minor": 5
}
